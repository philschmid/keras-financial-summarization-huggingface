{
 "cells": [
  {
   "cell_type": "markdown",
   "metadata": {},
   "source": [
    "# Example of creating a dataset from filesystem using `datasets`"
   ]
  },
  {
   "cell_type": "markdown",
   "metadata": {},
   "source": [
    "Installing [gdown](https://github.com/wkentaro/gdown) to automatically download the dataset from gdrive provided by the dataset creator."
   ]
  },
  {
   "cell_type": "code",
   "execution_count": 5,
   "metadata": {},
   "outputs": [
    {
     "name": "stdout",
     "output_type": "stream",
     "text": [
      "Collecting gdown\n",
      "  Downloading gdown-4.2.0.tar.gz (13 kB)\n",
      "  Installing build dependencies ... \u001b[?25ldone\n",
      "\u001b[?25h  Getting requirements to build wheel ... \u001b[?25ldone\n",
      "\u001b[?25h  Preparing metadata (pyproject.toml) ... \u001b[?25ldone\n",
      "\u001b[?25hRequirement already satisfied: six in /opt/homebrew/Caskroom/miniforge/base/envs/hf/lib/python3.8/site-packages (from gdown) (1.16.0)\n",
      "Requirement already satisfied: requests[socks] in /opt/homebrew/Caskroom/miniforge/base/envs/hf/lib/python3.8/site-packages (from gdown) (2.26.0)\n",
      "Collecting beautifulsoup4\n",
      "  Downloading beautifulsoup4-4.10.0-py3-none-any.whl (97 kB)\n",
      "     |████████████████████████████████| 97 kB 3.5 MB/s            \n",
      "\u001b[?25hRequirement already satisfied: tqdm in /opt/homebrew/Caskroom/miniforge/base/envs/hf/lib/python3.8/site-packages (from gdown) (4.62.3)\n",
      "Requirement already satisfied: filelock in /opt/homebrew/Caskroom/miniforge/base/envs/hf/lib/python3.8/site-packages (from gdown) (3.4.0)\n",
      "Collecting soupsieve>1.2\n",
      "  Downloading soupsieve-2.3.1-py3-none-any.whl (37 kB)\n",
      "Requirement already satisfied: idna<4,>=2.5 in /opt/homebrew/Caskroom/miniforge/base/envs/hf/lib/python3.8/site-packages (from requests[socks]->gdown) (3.3)\n",
      "Requirement already satisfied: urllib3<1.27,>=1.21.1 in /opt/homebrew/Caskroom/miniforge/base/envs/hf/lib/python3.8/site-packages (from requests[socks]->gdown) (1.26.7)\n",
      "Requirement already satisfied: certifi>=2017.4.17 in /opt/homebrew/Caskroom/miniforge/base/envs/hf/lib/python3.8/site-packages (from requests[socks]->gdown) (2021.10.8)\n",
      "Requirement already satisfied: charset-normalizer~=2.0.0 in /opt/homebrew/Caskroom/miniforge/base/envs/hf/lib/python3.8/site-packages (from requests[socks]->gdown) (2.0.8)\n",
      "Collecting PySocks!=1.5.7,>=1.5.6\n",
      "  Downloading PySocks-1.7.1-py3-none-any.whl (16 kB)\n",
      "Building wheels for collected packages: gdown\n",
      "  Building wheel for gdown (pyproject.toml) ... \u001b[?25ldone\n",
      "\u001b[?25h  Created wheel for gdown: filename=gdown-4.2.0-py3-none-any.whl size=14262 sha256=507fb83dfd386a1b4652d74d1619908aea0c3a882751db3f6d3cc6c3e51ff6ae\n",
      "  Stored in directory: /Users/philipp/Library/Caches/pip/wheels/2b/3c/51/52c46deda5cd1d59c6ce3d441ea5f3d155495dc294c4535a25\n",
      "Successfully built gdown\n",
      "Installing collected packages: soupsieve, PySocks, beautifulsoup4, gdown\n",
      "Successfully installed PySocks-1.7.1 beautifulsoup4-4.10.0 gdown-4.2.0 soupsieve-2.3.1\n"
     ]
    }
   ],
   "source": [
    "!pip install gdown"
   ]
  },
  {
   "cell_type": "code",
   "execution_count": 21,
   "metadata": {},
   "outputs": [
    {
     "name": "stdout",
     "output_type": "stream",
     "text": [
      "--2022-01-17 09:25:08--  https://drive.google.com/u/0/uc?export=download&confirm=2rTA&id=130flJ0u_5Ox5D-pQFa5lGiBLqILDBmXX\n",
      "Auflösen des Hostnamens drive.google.com (drive.google.com)… 142.251.37.14\n",
      "Verbindungsaufbau zu drive.google.com (drive.google.com)|142.251.37.14|:443 … verbunden.\n",
      "HTTP-Anforderung gesendet, auf Antwort wird gewartet … 200 OK\n",
      "Länge: nicht spezifiziert [text/html]\n",
      "Wird in »uc?export=download&confirm=2rTA&id=130flJ0u_5Ox5D-pQFa5lGiBLqILDBmXX« gespeichert.\n",
      "\n",
      "uc?export=download&     [ <=>                ]   3,22K  --.-KB/s    in 0s      \n",
      "\n",
      "2022-01-17 09:25:09 (15,3 MB/s) - »uc?export=download&confirm=2rTA&id=130flJ0u_5Ox5D-pQFa5lGiBLqILDBmXX« gespeichert [3297]\n",
      "\n"
     ]
    }
   ],
   "source": [
    "!gdown \"https://drive.google.com/u/0/uc?export=download&confirm=2rTA&id=130flJ0u_5Ox5D-pQFa5lGiBLqILDBmXX\" # for files\n"
   ]
  },
  {
   "cell_type": "code",
   "execution_count": 20,
   "metadata": {},
   "outputs": [],
   "source": [
    "import json\n",
    "with open(\"evaluate_news.json\",\"r+\") as f, open('dataset.jsonl', 'w') as outfile:\n",
    "    JSON_file = json.load(f)\n",
    "    for entry in JSON_file:\n",
    "        json.dump(entry, outfile)\n",
    "        outfile.write('\\n')\n"
   ]
  },
  {
   "cell_type": "code",
   "execution_count": 15,
   "metadata": {},
   "outputs": [
    {
     "name": "stderr",
     "output_type": "stream",
     "text": [
      "Using custom data configuration default-5988af065ea29c09\n"
     ]
    },
    {
     "name": "stdout",
     "output_type": "stream",
     "text": [
      "Downloading and preparing dataset json/default to /Users/philipp/.cache/huggingface/datasets/json/default-5988af065ea29c09/0.0.0/c90812beea906fcffe0d5e3bb9eba909a80a998b5f88e9f8acbd320aa91acfde...\n"
     ]
    },
    {
     "name": "stderr",
     "output_type": "stream",
     "text": [
      "100%|██████████| 1/1 [00:00<00:00, 5849.80it/s]\n",
      "100%|██████████| 1/1 [00:00<00:00, 1100.00it/s]\n"
     ]
    },
    {
     "name": "stdout",
     "output_type": "stream",
     "text": [
      "Dataset json downloaded and prepared to /Users/philipp/.cache/huggingface/datasets/json/default-5988af065ea29c09/0.0.0/c90812beea906fcffe0d5e3bb9eba909a80a998b5f88e9f8acbd320aa91acfde. Subsequent calls will reuse this data.\n"
     ]
    },
    {
     "name": "stderr",
     "output_type": "stream",
     "text": [
      "100%|██████████| 1/1 [00:00<00:00, 10.94it/s]\n"
     ]
    }
   ],
   "source": [
    "from datasets import load_dataset\n",
    "\n",
    "ds = load_dataset('json', data_files='dataset.jsonl')"
   ]
  },
  {
   "cell_type": "code",
   "execution_count": 17,
   "metadata": {},
   "outputs": [
    {
     "data": {
      "text/plain": [
       "{'text': 'PLANO, Texas, Dec. 8, 2020 /PRNewswire/ --European Wax Center(EWC), the leading personal care franchise brand that offers expert wax services from certified specialists is proud to welcome a new Chief Financial Officer, Jennifer Vanderveldt. In the midst of European Wax Center\\'s accelerated growth plan, Jennifer will lead the Accounting and FP&A teams to continue to widen growth and organizational initiatives. (PRNewsfoto/European Wax Center) \"We are thrilled to have Jennifer join the European Wax Center team and partner with all functions to provide analytical and insightful leadership to support our accelerated growth, operational efficiency, the 360-guest experience, as well as our people and performance strategies,\" said David Berg, CEO of European Wax Center. Jennifer\\'s background includes 20 years of leadership experience across strategy, finance, operations, marketing, analytics, and insights with multibillion-dollar retail and CPG brands, including Rubio\\'s, Petco, and Michaels stores. Her early career experience as an investment banker serving consumer and retail sector clients across M&A, equity, and debt transactions provided a strong foundation in capital markets. \"I\\'m excited to join the European Wax Center team. I look forward to aiding in the brand\\'s accelerated growth plan and supporting the leading wax specialty personal care brand in the United States,\" said Jennifer Vanderveldt, CFO of European Wax Center. Jennifer joins EWC most recently from The Michaels Companies, Inc., where she served as Vice President and Head of Strategy, Consumer Insights and Analytics. In this role was responsible for creating and driving growth transformation strategy for the $5 billion specialty retailer. Prior to her time at Michaels, Jennifer served as Vice President across various functions at Petco, including International expansion, Ecommerce Subscriptions, and Business Development. During this time, Jennifer impressively doubled the annualized run-rate revenue contribution for Petco\\'s digital membership business. Additionally, Jennifer acted as a founding member of Petco\\'s in-store veterinary business. European Wax Center is thrilled to welcome Jennifer on-board and to have her as part of the leadership team! Reporting to Jennifer will be EWC\\'s Chief Accounting Officer, and EWC\\'s Vice President of FP&A. About European Wax CenterEuropean Wax Center (EWC) is a leading personal care franchise brand founded in 2004. They offer expert wax services from certified Wax Specialists, ensuring that every guest who walks through the door leaves feeling confidentin EWC and themselves. EWC provides guests with a first class, professional waxing experience by the most highly trainedestheticians in the industry, within the privacy of clean, individual waxing suites.They\\'re so certain everyone will love the EWC experience, European Wax Center offers a free complimentary wax to each new guest. EWC continues to revolutionize the waxing category with their innovative, signatureComfort Wax. This proprietary blend is formulated with the highest quality ingredients to leave skin feeling smooth and make waxing a more pleasant, virtually painless experience.To help enhance and extend waxing services after leaving the center, EWC offers a full collection of proprietary products in the skincare, body, and brow categories. European Wax Center is the #1 wax specialty personal care brand in the United States, and its network now includes 800 centers nationwide.For more information including how to receive your first wax free, please visit:www.waxcenter.com.SOURCE European Wax Center',\n",
       " 'title': 'European Wax Center Welcomes Jennifer Vanderveldt As Chief Financial Officer',\n",
       " 'pub_time': '2020-12-08 09:00:00-05:00',\n",
       " 'labels': {'ticker': 'MIK',\n",
       "  'start_time': '2020-12-08 09:00:00-05:00',\n",
       "  'start_price_open': 12.07,\n",
       "  'start_price_close': 12.07,\n",
       "  'end_price_1day': 12.8,\n",
       "  'end_price_2day': 12.4899,\n",
       "  'end_price_3day': 13.0,\n",
       "  'end_time_1day': '2020-12-08 19:11:00-05:00',\n",
       "  'end_time_2day': '2020-12-09 18:45:00-05:00',\n",
       "  'end_time_3day': '2020-12-10 19:35:00-05:00',\n",
       "  'highest_price_1day': 13.2,\n",
       "  'highest_price_2day': 13.2,\n",
       "  'highest_price_3day': 13.2,\n",
       "  'highest_time_1day': '2020-12-08 10:12:00-05:00',\n",
       "  'highest_time_2day': '2020-12-08 10:12:00-05:00',\n",
       "  'highest_time_3day': '2020-12-08 10:12:00-05:00',\n",
       "  'lowest_price_1day': 11.98,\n",
       "  'lowest_price_2day': 11.98,\n",
       "  'lowest_price_3day': 11.98,\n",
       "  'lowest_time_1day': '2020-12-08 09:13:00-05:00',\n",
       "  'lowest_time_2day': '2020-12-08 09:13:00-05:00',\n",
       "  'lowest_time_3day': '2020-12-08 09:13:00-05:00'}}"
      ]
     },
     "execution_count": 17,
     "metadata": {},
     "output_type": "execute_result"
    }
   ],
   "source": [
    "ds[\"train\"][0]"
   ]
  },
  {
   "cell_type": "code",
   "execution_count": 19,
   "metadata": {},
   "outputs": [
    {
     "data": {
      "text/plain": [
       "{'text': Value(dtype='string', id=None),\n",
       " 'title': Value(dtype='string', id=None),\n",
       " 'pub_time': Value(dtype='string', id=None),\n",
       " 'labels': {'ticker': Value(dtype='string', id=None),\n",
       "  'start_time': Value(dtype='string', id=None),\n",
       "  'start_price_open': Value(dtype='float64', id=None),\n",
       "  'start_price_close': Value(dtype='float64', id=None),\n",
       "  'end_price_1day': Value(dtype='float64', id=None),\n",
       "  'end_price_2day': Value(dtype='float64', id=None),\n",
       "  'end_price_3day': Value(dtype='float64', id=None),\n",
       "  'end_time_1day': Value(dtype='string', id=None),\n",
       "  'end_time_2day': Value(dtype='string', id=None),\n",
       "  'end_time_3day': Value(dtype='string', id=None),\n",
       "  'highest_price_1day': Value(dtype='float64', id=None),\n",
       "  'highest_price_2day': Value(dtype='float64', id=None),\n",
       "  'highest_price_3day': Value(dtype='float64', id=None),\n",
       "  'highest_time_1day': Value(dtype='string', id=None),\n",
       "  'highest_time_2day': Value(dtype='string', id=None),\n",
       "  'highest_time_3day': Value(dtype='string', id=None),\n",
       "  'lowest_price_1day': Value(dtype='float64', id=None),\n",
       "  'lowest_price_2day': Value(dtype='float64', id=None),\n",
       "  'lowest_price_3day': Value(dtype='float64', id=None),\n",
       "  'lowest_time_1day': Value(dtype='string', id=None),\n",
       "  'lowest_time_2day': Value(dtype='string', id=None),\n",
       "  'lowest_time_3day': Value(dtype='string', id=None)}}"
      ]
     },
     "execution_count": 19,
     "metadata": {},
     "output_type": "execute_result"
    }
   ],
   "source": [
    "ds[\"train\"].features"
   ]
  },
  {
   "cell_type": "code",
   "execution_count": null,
   "metadata": {},
   "outputs": [],
   "source": []
  }
 ],
 "metadata": {
  "interpreter": {
   "hash": "5fcf248a74081676ead7e77f54b2c239ba2921b952f7cbcdbbe5427323165924"
  },
  "kernelspec": {
   "display_name": "Python 3.8.12 64-bit ('hf': conda)",
   "language": "python",
   "name": "python3"
  },
  "language_info": {
   "codemirror_mode": {
    "name": "ipython",
    "version": 3
   },
   "file_extension": ".py",
   "mimetype": "text/x-python",
   "name": "python",
   "nbconvert_exporter": "python",
   "pygments_lexer": "ipython3",
   "version": "3.8.12"
  },
  "orig_nbformat": 4
 },
 "nbformat": 4,
 "nbformat_minor": 2
}
